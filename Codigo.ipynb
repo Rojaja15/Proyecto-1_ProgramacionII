{
 "cells": [
  {
   "cell_type": "markdown",
   "id": "57052931",
   "metadata": {},
   "source": [
    "# Proyecto 1"
   ]
  },
  {
   "cell_type": "markdown",
   "id": "bc0b408b",
   "metadata": {},
   "source": [
    "Archivo lectura"
   ]
  },
  {
   "cell_type": "code",
   "execution_count": 1,
   "id": "1a121f88",
   "metadata": {},
   "outputs": [],
   "source": [
    "import pandas as pd # pandas: librria para manejar de datos (lectura de csv)\n",
    "from statistics import mean # statistics es un maquete con funcoioenes para calcular estadisticas matematicas de numeros"
   ]
  },
  {
   "cell_type": "markdown",
   "id": "4a7fd428",
   "metadata": {},
   "source": [
    "## Clase Registro Climatico"
   ]
  },
  {
   "cell_type": "markdown",
   "id": "3afa41fa",
   "metadata": {},
   "source": [
    "Esta clase realiza el analisis del archivo de datos en formato csv para orgaizarlo para luego utilizar la clase Analizador"
   ]
  },
  {
   "cell_type": "code",
   "execution_count": 2,
   "id": "4c982606",
   "metadata": {},
   "outputs": [],
   "source": [
    "class RegistroClimatico:\n",
    "    def __init__(self,fecha,temperatura,humedad):\n",
    "        self.fecha = fecha\n",
    "        self.temperatura = temperatura\n",
    "        self.humedad = humedad\n",
    "        \n",
    "    def __repr__(self):\n",
    "        return f\"RegistroClimatico(fecha={self.fecha}, temperatura={self.temperatura}°C, humedad={self.humedad}%)\""
   ]
  },
  {
   "cell_type": "markdown",
   "id": "d480b948",
   "metadata": {},
   "source": [
    "## Clase Analizador"
   ]
  },
  {
   "cell_type": "code",
   "execution_count": 3,
   "id": "f94fb2a7",
   "metadata": {},
   "outputs": [],
   "source": [
    "class Analizador:\n",
    "    def __init__(self):\n",
    "        self.registros = []\n",
    "        self.dias_unicos = set()\n",
    "\n",
    "    def cargar_datos(self, archivo_csv):\n",
    "        df = pd.read_csv(archivo_csv)\n",
    "        for _, fila in df.iterrows():\n",
    "            registro = RegistroClimatico(fila[\"fecha\"], fila[\"temperatura\"], fila[\"humedad\"])\n",
    "            self.registros.append(registro)\n",
    "            self.dias_unicos.add(fila[\"fecha\"])\n",
    "    \n",
    "    def estadisticas(self):\n",
    "        temperaturas = [r.temeperatura for r in self.registros]\n",
    "        humedades = [r.humedad for r in self.registros]\n",
    "        return{\n",
    "            \"temperatura_promedio\": mean(temperaturas),\n",
    "            \"temperatura_maxima\": max(temperaturas),\n",
    "            \"temperatura_minima\": min(temperaturas),\n",
    "            \"humedad_promedio\": mean(humedades),\n",
    "            \"humedad_maxima\": max(humedades),\n",
    "            \"humedad_minima\": min(humedades)\n",
    "        }\n",
    "    \n",
    "    def generar_alertas_temperatura(self, umbral_calor=30):\n",
    "        return[f\"⚠️ Ola de calor el {r.fecha}: {r.temperatura}°C\"\n",
    "               for r in self.registros if r.temperatura >= umbral_calor]\n",
    "    \n",
    "    def clasificar_humedad(self, humedad):\n",
    "        if humedad < 30:\n",
    "            return \"Humedad baja\"\n",
    "        elif 30 <= humedad <= 60:\n",
    "            return \"Humedad moderada\"\n",
    "        else:\n",
    "            return \"Alta\"\n",
    "        \n",
    "    def generar_alertas_humedad(self):\n",
    "        return[f\"⚠️ {self.clasificar_humedad(r.humedad)} el {r.fecha}: {r.humedad}%\"\n",
    "               for r in self.registros]"
   ]
  }
 ],
 "metadata": {
  "kernelspec": {
   "display_name": "Python 3",
   "language": "python",
   "name": "python3"
  },
  "language_info": {
   "codemirror_mode": {
    "name": "ipython",
    "version": 3
   },
   "file_extension": ".py",
   "mimetype": "text/x-python",
   "name": "python",
   "nbconvert_exporter": "python",
   "pygments_lexer": "ipython3",
   "version": "3.13.7"
  }
 },
 "nbformat": 4,
 "nbformat_minor": 5
}
